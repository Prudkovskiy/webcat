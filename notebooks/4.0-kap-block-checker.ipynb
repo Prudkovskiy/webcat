{
 "cells": [
  {
   "cell_type": "code",
   "execution_count": null,
   "id": "a1792c1b",
   "metadata": {},
   "outputs": [],
   "source": [
    "import asyncio\n",
    "import requests\n",
    "import os\n",
    "import logging\n",
    "\n",
    "\n",
    "directory = '/home/kalacheva/Desktop/big_redis/'"
   ]
  },
  {
   "cell_type": "code",
   "execution_count": null,
   "id": "ea6ee417",
   "metadata": {},
   "outputs": [],
   "source": [
    "class StubChecker:\n",
    "    async def check(self, url):\n",
    "        try:\n",
    "            res = await asyncio.to_thread(\n",
    "                requests.get,\n",
    "                'http://blockchecker.ti.bi.zone/api/v1/check/',\n",
    "                params={\"value\": url},\n",
    "                verify=False,\n",
    "            )\n",
    "            return res.json()[\"block_status\"]\n",
    "        except Exception as e:\n",
    "            logger.exception(e)\n",
    "            return"
   ]
  },
  {
   "cell_type": "code",
   "execution_count": null,
   "id": "45a425e8",
   "metadata": {},
   "outputs": [],
   "source": [
    "# example for one url\n",
    "\n",
    "checker = StubChecker()\n",
    "await checker.check(url)\n",
    "\n",
    "url = 'http://adcz.hit.gemius.pl/'"
   ]
  },
  {
   "cell_type": "code",
   "execution_count": null,
   "id": "c00e5b4f",
   "metadata": {},
   "outputs": [],
   "source": [
    "async def check_file(root, file):\n",
    "    file_path = os.path.join(root, file)\n",
    "    url = file[:-4]\n",
    "    try:\n",
    "        verdict = await asyncio.wait_for(checker.check(url), timeout=10)\n",
    "    except asyncio.TimeoutError:\n",
    "        verdict = False\n",
    "    except NameError:\n",
    "        verdict = False\n",
    "    print(verdict, url, file_path)\n",
    "\n",
    "    if verdict == True:\n",
    "        os.remove(file_path)\n",
    "\n",
    "async def main(directory):\n",
    "    tasks = []\n",
    "    for root, dirs, files in os.walk(directory):\n",
    "#         print(len(files))\n",
    "        for file in files:\n",
    "            tasks.append(check_file(root, file))\n",
    "    await asyncio.gather(*tasks)"
   ]
  },
  {
   "cell_type": "code",
   "execution_count": null,
   "id": "53801b16",
   "metadata": {},
   "outputs": [],
   "source": [
    "# iterate over all folders\n",
    "\n",
    "await main(directory)"
   ]
  }
 ],
 "metadata": {
  "kernelspec": {
   "display_name": "Python 3 (ipykernel)",
   "language": "python",
   "name": "python3"
  },
  "language_info": {
   "codemirror_mode": {
    "name": "ipython",
    "version": 3
   },
   "file_extension": ".py",
   "mimetype": "text/x-python",
   "name": "python",
   "nbconvert_exporter": "python",
   "pygments_lexer": "ipython3",
   "version": "3.10.6"
  }
 },
 "nbformat": 4,
 "nbformat_minor": 5
}
