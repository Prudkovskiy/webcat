{
 "cells": [
  {
   "cell_type": "code",
   "execution_count": 2,
   "id": "2377b7f8",
   "metadata": {},
   "outputs": [],
   "source": [
    "import redis\n",
    "import json\n",
    "import requests\n",
    "from bs4 import BeautifulSoup\n",
    "import httpx\n",
    "import time\n",
    "import pandas as pd\n",
    "from sklearn.model_selection import train_test_split\n",
    "import torch\n",
    "from transformers import BertTokenizer, BertForSequenceClassification\n",
    "from sentence_transformers import SentenceTransformer\n",
    "from torch.utils.data import Dataset, DataLoader\n",
    "import torch.optim as optim\n",
    "from torch.nn import functional as F\n",
    "from collections import defaultdict\n",
    "from string import punctuation\n",
    "from nltk.corpus import stopwords\n",
    "from boilerpy3 import extractors\n",
    "import spacy\n",
    "from spacy.lang.en import English\n",
    "from spacy.lang.ru import Russian\n",
    "from nltk.corpus import wordnet as wn\n",
    "from textblob import TextBlob\n",
    "import tldextract\n",
    "from xgboost import XGBClassifier\n",
    "from sklearn.linear_model import LogisticRegression\n",
    "from sklearn.metrics import accuracy_score, classification_report, confusion_matrix\n",
    "import nltk\n",
    "from urllib.parse import urlparse\n",
    "from nltk.classify import NaiveBayesClassifier\n",
    "from nltk.classify.util import accuracy\n",
    "import matplotlib.pyplot as plt\n",
    "import datetime\n",
    "import joblib\n",
    "from collections import Counter\n",
    "\n",
    "import sys\n",
    "from sklearn.pipeline import Pipeline\n",
    "from sklearn.base import BaseEstimator, TransformerMixin\n",
    "\n",
    "import random\n",
    "from sklearn.feature_extraction.text import CountVectorizer\n",
    "from sklearn.naive_bayes import MultinomialNB\n",
    "from sklearn.pipeline import make_pipeline\n",
    "\n",
    "from sklearn.metrics import classification_report\n",
    "import joblib\n",
    "\n",
    "path = '/home/kalacheva/Desktop/ngram_models/'\n",
    "model = joblib.load(path + 'Business.joblib')"
   ]
  },
  {
   "cell_type": "code",
   "execution_count": 3,
   "id": "73921b41",
   "metadata": {},
   "outputs": [],
   "source": [
    "class UrlTransformer(BaseEstimator, TransformerMixin):\n",
    "    def __init__(self):\n",
    "        pass\n",
    "\n",
    "    def fit(self, X, y=None):\n",
    "        return self\n",
    "\n",
    "    def transform(self, X, y=None):\n",
    "        return pd.DataFrame([self.remove_tld(url) for url in X])[0]\n",
    "\n",
    "    def remove_tld(self, url):\n",
    "        ext = tldextract.extract(url)\n",
    "        if ext.subdomain:\n",
    "            return '.'.join(tldextract.extract(url)[:2])\n",
    "        return ext.domain\n",
    "\n",
    "\n",
    "pipeline = Pipeline([\n",
    "    ('url_transformer', UrlTransformer()),\n",
    "    ('model', model)\n",
    "])\n",
    "\n",
    "def predict_url(url):\n",
    "    result = pipeline.predict([url])[0]\n",
    "    result_proba = max(pipeline.predict_proba([url])[0])\n",
    "    print(f'It is {result} category with probability {result_proba}')\n",
    "    return result, result_proba"
   ]
  },
  {
   "cell_type": "code",
   "execution_count": 4,
   "id": "076b65eb",
   "metadata": {},
   "outputs": [
    {
     "name": "stdout",
     "output_type": "stream",
     "text": [
      "It is not_Business category with probability 0.5624024498523421\n"
     ]
    },
    {
     "data": {
      "text/plain": [
       "('not_Business', 0.5624024498523421)"
      ]
     },
     "execution_count": 4,
     "metadata": {},
     "output_type": "execute_result"
    }
   ],
   "source": [
    "predict_url('https://www.ubuntumint.com/')"
   ]
  }
 ],
 "metadata": {
  "kernelspec": {
   "display_name": "Python 3 (ipykernel)",
   "language": "python",
   "name": "python3"
  },
  "language_info": {
   "codemirror_mode": {
    "name": "ipython",
    "version": 3
   },
   "file_extension": ".py",
   "mimetype": "text/x-python",
   "name": "python",
   "nbconvert_exporter": "python",
   "pygments_lexer": "ipython3",
   "version": "3.10.6"
  }
 },
 "nbformat": 4,
 "nbformat_minor": 5
}
